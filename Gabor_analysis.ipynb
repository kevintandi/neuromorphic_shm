{
  "cells": [
    {
      "cell_type": "code",
      "execution_count": null,
      "metadata": {
        "collapsed": false
      },
      "outputs": [],
      "source": [
        "%matplotlib inline"
      ]
    },
    {
      "cell_type": "markdown",
      "metadata": {},
      "source": [
        "\n",
        "# Gabor filter banks for texture classification\n",
        "\n",
        "In this example, we will see how to classify textures based on Gabor filter\n",
        "banks. Frequency and orientation representations of the Gabor filter are\n",
        "similar to those of the human visual system.\n",
        "\n",
        "The images are filtered using the real parts of various different Gabor filter\n",
        "kernels. The mean and variance of the filtered images are then used as features\n",
        "for classification, which is based on the least squared error for simplicity.\n"
      ]
    },
    {
      "cell_type": "code",
      "execution_count": null,
      "metadata": {
        "collapsed": false
      },
      "outputs": [],
      "source": [
        "import matplotlib.pyplot as plt\n",
        "import numpy as np\n",
        "from scipy import ndimage as ndi\n",
        "\n",
        "from skimage import data\n",
        "from skimage.util import img_as_float\n",
        "from skimage.filters import gabor_kernel\n",
        "\n",
        "\n",
        "def compute_feats(image, kernels):\n",
        "    feats = np.zeros((len(kernels), 2), dtype=np.double)\n",
        "    for k, kernel in enumerate(kernels):\n",
        "        filtered = ndi.convolve(image, kernel, mode='wrap')\n",
        "        feats[k, 0] = filtered.mean()\n",
        "        feats[k, 1] = filtered.var()\n",
        "    return feats\n",
        "\n",
        "\n",
        "def match(feats, ref_feats):\n",
        "    min_error = np.inf\n",
        "    min_i = None\n",
        "    for i in range(ref_feats.shape[0]):\n",
        "        error = np.sum((feats - ref_feats[i, :])**2)\n",
        "        if error < min_error:\n",
        "            min_error = error\n",
        "            min_i = i\n",
        "    return min_i\n",
        "\n",
        "\n",
        "# prepare filter bank kernels\n",
        "kernels = []\n",
        "for theta in range(4):\n",
        "    theta = theta / 4. * np.pi\n",
        "    for sigma in (1, 3):\n",
        "        for frequency in (0.05, 0.25):\n",
        "            kernel = np.real(gabor_kernel(frequency, theta=theta,\n",
        "                                          sigma_x=sigma, sigma_y=sigma))\n",
        "            kernels.append(kernel)\n",
        "\n",
        "\n",
        "shrink = (slice(0, None, 3), slice(0, None, 3))\n",
        "brick = img_as_float(data.brick())[shrink]\n",
        "grass = img_as_float(data.grass())[shrink]\n",
        "gravel = img_as_float(data.gravel())[shrink]\n",
        "image_names = ('brick', 'grass', 'gravel')\n",
        "images = (brick, grass, gravel)\n",
        "\n",
        "# prepare reference features\n",
        "ref_feats = np.zeros((3, len(kernels), 2), dtype=np.double)\n",
        "ref_feats[0, :, :] = compute_feats(brick, kernels)\n",
        "ref_feats[1, :, :] = compute_feats(grass, kernels)\n",
        "ref_feats[2, :, :] = compute_feats(gravel, kernels)\n",
        "\n",
        "print('Rotated images matched against references using Gabor filter banks:')\n",
        "\n",
        "print('original: brick, rotated: 30deg, match result: ', end='')\n",
        "feats = compute_feats(ndi.rotate(brick, angle=190, reshape=False), kernels)\n",
        "print(image_names[match(feats, ref_feats)])\n",
        "\n",
        "print('original: brick, rotated: 70deg, match result: ', end='')\n",
        "feats = compute_feats(ndi.rotate(brick, angle=70, reshape=False), kernels)\n",
        "print(image_names[match(feats, ref_feats)])\n",
        "\n",
        "print('original: grass, rotated: 145deg, match result: ', end='')\n",
        "feats = compute_feats(ndi.rotate(grass, angle=145, reshape=False), kernels)\n",
        "print(image_names[match(feats, ref_feats)])\n",
        "\n",
        "\n",
        "def power(image, kernel):\n",
        "    # Normalize images for better comparison.\n",
        "    image = (image - image.mean()) / image.std()\n",
        "    return np.sqrt(ndi.convolve(image, np.real(kernel), mode='wrap')**2 +\n",
        "                   ndi.convolve(image, np.imag(kernel), mode='wrap')**2)\n",
        "\n",
        "# Plot a selection of the filter bank kernels and their responses.\n",
        "results = []\n",
        "kernel_params = []\n",
        "for theta in (0, 1):\n",
        "    theta = theta / 4. * np.pi\n",
        "    for frequency in (0.1, 0.4):\n",
        "        kernel = gabor_kernel(frequency, theta=theta)\n",
        "        params = 'theta=%d,\\nfrequency=%.2f' % (theta * 180 / np.pi, frequency)\n",
        "        kernel_params.append(params)\n",
        "        # Save kernel and the power image for each image\n",
        "        results.append((kernel, [power(img, kernel) for img in images]))\n",
        "\n",
        "fig, axes = plt.subplots(nrows=5, ncols=4, figsize=(5, 6))\n",
        "plt.gray()\n",
        "\n",
        "fig.suptitle('Image responses for Gabor filter kernels', fontsize=12)\n",
        "\n",
        "axes[0][0].axis('off')\n",
        "\n",
        "# Plot original images\n",
        "for label, img, ax in zip(image_names, images, axes[0][1:]):\n",
        "    ax.imshow(img)\n",
        "    ax.set_title(label, fontsize=9)\n",
        "    ax.axis('off')\n",
        "\n",
        "for label, (kernel, powers), ax_row in zip(kernel_params, results, axes[1:]):\n",
        "    # Plot Gabor kernel\n",
        "    ax = ax_row[0]\n",
        "    ax.imshow(np.real(kernel))\n",
        "    ax.set_ylabel(label, fontsize=7)\n",
        "    ax.set_xticks([])\n",
        "    ax.set_yticks([])\n",
        "\n",
        "    # Plot Gabor responses with the contrast normalized for each filter\n",
        "    vmin = np.min(powers)\n",
        "    vmax = np.max(powers)\n",
        "    for patch, ax in zip(powers, ax_row[1:]):\n",
        "        ax.imshow(patch, vmin=vmin, vmax=vmax)\n",
        "        ax.axis('off')\n",
        "\n",
        "plt.show()"
      ]
    },
    {
      "cell_type": "code",
      "execution_count": null,
      "metadata": {},
      "outputs": [],
      "source": [
        "from dv import AedatFile\n",
        "import cv2\n",
        "import matplotlib.pyplot as plt\n",
        "from time import sleep\n",
        "\n",
        "with AedatFile(\"./data/test1.aedat4\") as f:\n",
        "    # list all the names of streams in the file\n",
        "    print(f.names)\n",
        "\n",
        "    # Access dimensions of the event stream\n",
        "    height, width = f['events'].size\n",
        "\n",
        "    # # loop through the \"events\" stream\n",
        "    # for e in f['events']:\n",
        "    #     print(e.timestamp)\n",
        "\n",
        "    # loop through the \"frames\" stream\n",
        "    # for frame in f['frames']:\n",
        "    #     #print(frame.timestamp)\n",
        "    #     plt.imshow(frame.image)\n",
        "    #     sleep(0.05)\n"
      ]
    },
    {
      "cell_type": "markdown",
      "metadata": {},
      "source": [
        "### Import as numpy file"
      ]
    },
    {
      "cell_type": "code",
      "execution_count": null,
      "metadata": {},
      "outputs": [],
      "source": [
        "from dv import AedatFile\n",
        "import numpy as np\n",
        "\n",
        "with AedatFile(\"./data/test1.aedat4\") as f:\n",
        "    # events will be a named numpy array\n",
        "    events = np.hstack([packet for packet in f['events'].numpy()])\n",
        "\n",
        "    # Access information of all events by type\n",
        "    timestamps, x, y, polarities = events['timestamp'], events['x'], events['y'], events['polarity']\n",
        "    # Access individual events information\n",
        "    event_123_x = events[123]['x']\n",
        "    # Slice events\n",
        "    first_100_events = events[:100]"
      ]
    },
    {
      "cell_type": "code",
      "execution_count": null,
      "metadata": {},
      "outputs": [],
      "source": [
        "from numpy import genfromtxt \n",
        "\n",
        "x, y = genfromtxt('./data/sim/x.csv', delimiter=','), genfromtxt('./data/sim/y.csv', delimiter=',')\n",
        "t, p = genfromtxt('./data/sim/t.csv', delimiter=','), genfromtxt('./data/sim/p.csv', delimiter=',')\n",
        "\n",
        "# Combine into tuple \n",
        "event_tuple = list(zip(x,y,t,p))\n",
        "\n",
        "events = np.array(event_tuple,dtype=[('x', '<i8'), ('y', '<i8'), ('t', '<i8'), ('p', '<i8')])"
      ]
    },
    {
      "cell_type": "code",
      "execution_count": null,
      "metadata": {},
      "outputs": [],
      "source": [
        "events['x'], events['y'], events['p'], events['t']"
      ]
    },
    {
      "cell_type": "code",
      "execution_count": null,
      "metadata": {},
      "outputs": [],
      "source": [
        "np.max(events['p'])"
      ]
    },
    {
      "cell_type": "markdown",
      "metadata": {},
      "source": [
        "### plot 3d (turn into function)"
      ]
    },
    {
      "cell_type": "code",
      "execution_count": null,
      "metadata": {},
      "outputs": [],
      "source": [
        "fig = plt.figure(figsize=(14,7))\n",
        "fig.suptitle('Side by side 3d and 2D slice ')\n",
        "ax = fig.add_subplot(111, projection='3d') \n",
        "\n",
        "# Data for three-dimensional scattered points\n",
        "zdata = y\n",
        "xdata = x\n",
        "ydata = t\n",
        "polarity = p\n",
        "ax.scatter3D(xdata, ydata, zdata, c=polarity)\n",
        "ax.set_xlabel('x')\n",
        "ax.set_ylabel('t')\n",
        "ax.set_zlabel('y')\n",
        "ax.invert_zaxis()\n",
        "\n",
        "#2d time surface slice \n",
        "#ax = fig.add_subplot(212)\n",
        "fig.show()"
      ]
    },
    {
      "cell_type": "code",
      "execution_count": null,
      "metadata": {},
      "outputs": [],
      "source": [
        "import plotly.express as px\n",
        "fig = px.scatter_3d(events, x='x', y='y', z='t', color='p')\n",
        "\n",
        "fig.show()\n",
        "fig"
      ]
    },
    {
      "cell_type": "markdown",
      "metadata": {},
      "source": [
        "### Convert to Frame/Time surface"
      ]
    },
    {
      "cell_type": "code",
      "execution_count": null,
      "metadata": {},
      "outputs": [],
      "source": [
        "import tonic.transforms as transforms\n",
        "\n",
        "frame_transform = transforms.ToFrame(sensor_size=(int(events[\"x\"].max() + 1),int(events[\"y\"].max() + 1),2), event_count=50)\n",
        "frames = frame_transform(events) # numpy array with dimensions (TxPxHxW)"
      ]
    },
    {
      "cell_type": "code",
      "execution_count": null,
      "metadata": {},
      "outputs": [],
      "source": [
        "print(np.shape(frames))\n",
        "#np.shape(frames[0][0][55])\n",
        "fig, ax = plt.subplots(figsize=(6, 6))\n",
        "plt.imshow(frames[20][1])\n",
        "print(np.max(frames[20][1]))"
      ]
    },
    {
      "cell_type": "code",
      "execution_count": null,
      "metadata": {},
      "outputs": [],
      "source": [
        "print(np.shape(frames[20][1]))\n",
        "test_time_surface = frames[20][1]\n",
        "\n",
        "from PIL import Image \n",
        "test_time_surface = (test_time_surface*255).astype(np.uint8)\n",
        "print(np.max(test_time_surface))\n",
        "\n",
        "image = Image.fromarray(test_time_surface)\n",
        "image.save('test_time_surface.png', format=\"png\")"
      ]
    },
    {
      "cell_type": "markdown",
      "metadata": {},
      "source": [
        "### Try visualizing gabor filters"
      ]
    },
    {
      "cell_type": "code",
      "execution_count": null,
      "metadata": {},
      "outputs": [],
      "source": [
        "%matplotlib qt \n",
        "import cv2\n",
        "import numpy as np\n",
        "import matplotlib.pyplot as plt\n",
        "from matplotlib.widgets import Slider, Button\n",
        "\n",
        "\n",
        "# read img and set gray color\n",
        "img = cv2.imread('test_time_surface.png')\n",
        "img = cv2.cvtColor(img, cv2.COLOR_BGR2GRAY)\n",
        "\n",
        "\n",
        "# dashboard settings\n",
        "fig, (ax, ax_2) = plt.subplots(1, 2, figsize=(10,10))\n",
        "plt.subplots_adjust(left=0.25, bottom=0.45)\n",
        "\n",
        "# create slider spaces\n",
        "axcolor = 'lightgoldenrodyellow'\n",
        "ax_sliders = [plt.axes([0.25, 0.1 + 0.05 * i, 0.65, 0.03], facecolor=axcolor) for i in range(6)]\n",
        "\n",
        "# define parameter sliders\n",
        "ksize = Slider(ax_sliders[0], 'ksize', 1, 40, valinit=21, valstep=1)\n",
        "sigma = Slider(ax_sliders[1], 'sigma', 0.1, 20.0, valinit=8, valstep=0.1)\n",
        "lambd = Slider(ax_sliders[2], 'lambd', 0.1, 20.0, valinit=10, valstep=0.1)\n",
        "gamma = Slider(ax_sliders[3], 'gamma', 0.1, 1, valinit=0.5, valstep=0.05)\n",
        "psi = Slider(ax_sliders[4], 'psi', -10, 10, valinit=0, valstep=1)\n",
        "theta = Slider(ax_sliders[5], 'theta', -5, 5, valinit=0, valstep=0.1)\n",
        "\n",
        "sliders = [ksize, sigma, lambd, gamma, psi, theta]\n",
        "\n",
        "\n",
        "def update(val):\n",
        "    # on slider update recalculate gabor kernel\n",
        "    g_kernel = cv2.getGaborKernel(ksize=(ksize.val, ksize.val),\n",
        "                                  sigma=sigma.val,\n",
        "                                  theta=np.pi / 4 * theta.val,\n",
        "                                  lambd=lambd.val,\n",
        "                                  gamma=gamma.val,\n",
        "                                  psi=psi.val,\n",
        "                                  ktype=cv2.CV_32F)\n",
        "    # recalculate img result\n",
        "    res = cv2.filter2D(img, cv2.CV_8UC3, g_kernel)\n",
        "\n",
        "    # show new img and gabor kernel\n",
        "    ax.imshow(res, interpolation=\"nearest\", cmap='gray')\n",
        "    ax.set_title('gabor result on img', fontsize=10)\n",
        "    ax_2.imshow(g_kernel, interpolation=\"nearest\", cmap='gray')\n",
        "    ax_2.set_title('g_kernel', fontsize=10)\n",
        "\n",
        "\n",
        "for i in sliders:\n",
        "    i.on_changed(update)\n",
        "\n",
        "update(None)\n",
        "\n",
        "resetax = plt.axes([0.8, 0.025, 0.1, 0.04])\n",
        "button = Button(resetax, 'Reset', color=axcolor, hovercolor='0.975')\n",
        "\n",
        "\n",
        "def reset(event):\n",
        "    for slider in sliders:\n",
        "        slider.reset()\n",
        "\n",
        "\n",
        "button.on_clicked(reset)\n",
        "plt.show()"
      ]
    },
    {
      "cell_type": "markdown",
      "metadata": {},
      "source": []
    },
    {
      "cell_type": "code",
      "execution_count": null,
      "metadata": {},
      "outputs": [],
      "source": [
        "np.shape(frames)\n",
        "\n",
        "%matplotlib inline \n",
        "import matplotlib.pyplot as plt\n",
        "\n",
        "def plot_frames(frames):\n",
        "    fig, axes = plt.subplots(1, len(frames), figsize=(20,20))\n",
        "    for axis, frame in zip(axes, frames):\n",
        "        print(np.shape(frame))\n",
        "        axis.imshow(frame[1])\n",
        "        print(np.max(frame[1]))\n",
        "        axis.axis(\"off\")\n",
        "    plt.tight_layout()\n",
        "        \n",
        "plot_frames(frames)"
      ]
    },
    {
      "cell_type": "code",
      "execution_count": null,
      "metadata": {},
      "outputs": [],
      "source": []
    },
    {
      "cell_type": "code",
      "execution_count": null,
      "metadata": {},
      "outputs": [],
      "source": [
        "### Now apply gabor filter in each event neighbourhood of 10x10\n",
        "\n"
      ]
    },
    {
      "cell_type": "code",
      "execution_count": null,
      "metadata": {},
      "outputs": [],
      "source": [
        "sensor_size = tonic.datasets.DAVISDATA.sensor_size\n",
        "sensor_size"
      ]
    },
    {
      "cell_type": "code",
      "execution_count": null,
      "metadata": {},
      "outputs": [],
      "source": [
        "# turn into 3d numpy array for easy time surface manipulation \n",
        "\n",
        "# Combine x and y into indexable spatial coordinate \n",
        "event_xy = np.vstack((x,y))\n",
        "np.shape(event_xy)\n",
        "\n",
        "# Loop through every element to create time surface.\n",
        "for polarity in p: "
      ]
    }
  ],
  "metadata": {
    "interpreter": {
      "hash": "17b37b9aefa325967b7341133c8e40cd84094e257b12161d8f1fa097016e52eb"
    },
    "kernelspec": {
      "display_name": "Python 3.8.5 64-bit ('base': conda)",
      "name": "python3"
    },
    "language_info": {
      "codemirror_mode": {
        "name": "ipython",
        "version": 3
      },
      "file_extension": ".py",
      "mimetype": "text/x-python",
      "name": "python",
      "nbconvert_exporter": "python",
      "pygments_lexer": "ipython3",
      "version": "3.8.5"
    }
  },
  "nbformat": 4,
  "nbformat_minor": 0
}
